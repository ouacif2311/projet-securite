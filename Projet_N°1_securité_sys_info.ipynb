{
 "cells": [
  {
   "cell_type": "code",
   "execution_count": 1,
   "metadata": {},
   "outputs": [],
   "source": [
    "from flask import Flask, request,render_template, session\n",
    "import psycopg2\n",
    "import hashlib\n",
    "import os"
   ]
  },
  {
   "cell_type": "code",
   "execution_count": 2,
   "metadata": {},
   "outputs": [],
   "source": [
    "app = Flask(__name__)\n",
    "app.config[\"CACHE_TYPE\"] = \"null\""
   ]
  },
  {
   "cell_type": "code",
   "execution_count": 3,
   "metadata": {},
   "outputs": [],
   "source": [
    "# salt = os.urandom(32) # Remember this\n",
    "salt = b'|\\xb0\\x84\\x9d\\xc8;\\xd9}\\x1a\\xaf\\xee\\\\H\\xae\\x17\\xbb\\\\i\\xb3\\r\\x11W\\xf9\\r1\\x01\\xabX}\\xd4\\x8b\\xf7' \n",
    "\n",
    "def connect(database=\"database\",user=\"cygne\",password=\"0000\", host=\"localhost\",port=\"5433\"):\n",
    "    try: \n",
    "        conn = psycopg2.connect(database=database, user=user, password=password, host=host,port=port)\n",
    "        print(\"connected\")\n",
    "    except:\n",
    "        print (\"I am unable to connect to the database\")\n",
    "\n",
    "    mycursor = conn.cursor()\n",
    "\n",
    "    return conn,mycursor\n",
    "\n",
    "def hashPassword(password):\n",
    "   \n",
    "    passwordHashed = hashlib.pbkdf2_hmac('sha256', password.encode('utf-8'), salt, 100000)\n",
    "    return passwordHashed.hex()"
   ]
  },
  {
   "cell_type": "code",
   "execution_count": 4,
   "metadata": {},
   "outputs": [],
   "source": [
    "@app.route('/')\n",
    "def index():\n",
    "    return render_template('formulair2.html', msg=\"\")\n",
    "\n",
    "@app.route('/AjouterCompte', methods=['GET'])\n",
    "def ajouterCompte():\n",
    "    return render_template('ajout-compte.html')\n",
    "\n",
    "\n",
    "@app.route('/Connect',methods=['GET', 'POST'])\n",
    "def login():\n",
    "    msg = ''\n",
    "    if request.method == 'POST' and 'identifiant' in request.form and 'password' in request.form: \n",
    "        identifiant = request.form['identifiant']\n",
    "        password = hashPassword(request.form['password'])\n",
    "        conn,mycursor = connect()\n",
    "        mycursor.execute('SELECT * FROM accounts WHERE identifiant = %s AND password = %s', (identifiant, password)) \n",
    "        account = mycursor.fetchone()\n",
    "        \n",
    "        if account:\n",
    "            \n",
    "            return \"OK, connection reussie avec le username \" + identifiant\n",
    "        else:\n",
    "            \n",
    "            msg = 'Erreur. idantifiant ou mot de passe incorrect, recommencer !'\n",
    "    \n",
    "    return render_template('formulair2.html', msg=msg)\n",
    "    \n",
    "\n",
    "@app.route('/addRegion', methods=['POST'])\n",
    "def ajouterCompteToDatabase():\n",
    "    identifiant = request.form['identifiant']\n",
    "    email = request.form['email']\n",
    "    password = hashPassword(request.form['password'])\n",
    "    \n",
    "    conn,mycursor = connect() \n",
    "    requete = \"INSERT INTO accounts (identifiant, email, password) VALUES (%s,%s,%s)\"\n",
    "    \n",
    "    conn,mycursor = connect()\n",
    "    mycursor.execute(requete,(identifiant,email,password))\n",
    "    conn.commit()\n",
    "    return render_template('formulair2.html')"
   ]
  },
  {
   "cell_type": "code",
   "execution_count": null,
   "metadata": {},
   "outputs": [
    {
     "name": "stdout",
     "output_type": "stream",
     "text": [
      " * Serving Flask app \"__main__\" (lazy loading)\n",
      " * Environment: production\n",
      "\u001b[31m   WARNING: This is a development server. Do not use it in a production deployment.\u001b[0m\n",
      "\u001b[2m   Use a production WSGI server instead.\u001b[0m\n",
      " * Debug mode: on\n"
     ]
    },
    {
     "name": "stderr",
     "output_type": "stream",
     "text": [
      " * Running on http://0.0.0.0:50000/ (Press CTRL+C to quit)\n",
      "127.0.0.1 - - [28/Oct/2021 14:16:59] \"\u001b[37mGET / HTTP/1.1\u001b[0m\" 200 -\n",
      "127.0.0.1 - - [28/Oct/2021 14:17:23] \"\u001b[37mPOST /Connect HTTP/1.1\u001b[0m\" 200 -\n"
     ]
    },
    {
     "name": "stdout",
     "output_type": "stream",
     "text": [
      "connected\n"
     ]
    },
    {
     "name": "stderr",
     "output_type": "stream",
     "text": [
      "127.0.0.1 - - [28/Oct/2021 14:17:27] \"\u001b[37mGET /AjouterCompte HTTP/1.1\u001b[0m\" 200 -\n"
     ]
    }
   ],
   "source": [
    "if __name__ == '__main__':\n",
    "    app.run(debug=True, host='0.0.0.0',port=50000,use_reloader=False)"
   ]
  },
  {
   "cell_type": "code",
   "execution_count": null,
   "metadata": {},
   "outputs": [],
   "source": []
  }
 ],
 "metadata": {
  "kernelspec": {
   "display_name": "Python 3",
   "language": "python",
   "name": "python3"
  },
  "language_info": {
   "codemirror_mode": {
    "name": "ipython",
    "version": 3
   },
   "file_extension": ".py",
   "mimetype": "text/x-python",
   "name": "python",
   "nbconvert_exporter": "python",
   "pygments_lexer": "ipython3",
   "version": "3.7.9"
  },
  "toc": {
   "base_numbering": 1,
   "nav_menu": {},
   "number_sections": false,
   "sideBar": false,
   "skip_h1_title": false,
   "title_cell": "Table of Contents",
   "title_sidebar": "Contents",
   "toc_cell": false,
   "toc_position": {},
   "toc_section_display": false,
   "toc_window_display": false
  }
 },
 "nbformat": 4,
 "nbformat_minor": 4
}
